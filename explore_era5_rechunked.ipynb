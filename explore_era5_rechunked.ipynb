{
 "cells": [
  {
   "cell_type": "markdown",
   "id": "468417ec-ba12-439a-81c2-43342b3dcd60",
   "metadata": {},
   "source": [
    "# Explore rechunked ERA5 "
   ]
  },
  {
   "cell_type": "code",
   "execution_count": null,
   "id": "cd642590-03f8-4419-8431-e2e8ba90e47e",
   "metadata": {
    "tags": []
   },
   "outputs": [],
   "source": [
    "import zarr\n",
    "import fsspec\n",
    "from dotenv import load_dotenv\n",
    "import xarray as xr\n",
    "import dask\n",
    "from dask.distributed import LocalCluster, Client"
   ]
  },
  {
   "cell_type": "code",
   "execution_count": null,
   "id": "2f81277e-1270-4b18-aae6-2c98a342213b",
   "metadata": {
    "tags": []
   },
   "outputs": [],
   "source": [
    "import os\n",
    "if 'NEBARI_JUPYTERHUB_SSH_PORT' in os.environ.keys():   # NEBARI\n",
    "    dot_env_file = '/shared/users/nebari-setup/lib/CMRE_Blob_Keys.env'\n",
    "elif 'AML_CloudName' in os.environ.keys():  # AzureML\n",
    "    dot_env_file = '/home/azureuser/cloudfiles/code/Users/CMRE_Blob_Keys.env'\n",
    "else:\n",
    "    print('Unknown Compute Environment: Blob_Keys not found')\n",
    "print(dot_env_file)\n",
    "_ = load_dotenv(dot_env_file)  # loads Azure credentials"
   ]
  },
  {
   "cell_type": "code",
   "execution_count": null,
   "id": "bc3af600-bbb8-4693-a258-c9fc54dbb7df",
   "metadata": {},
   "outputs": [],
   "source": [
    "storage_options={\n",
    "            \"account_name\": os.environ[\"AZURE_STORAGE_CONNECTION_STRING\"],\n",
    "            \"account_key\": os.environ[\"AZURE_STORAGE_KEY\"],\n",
    "        }"
   ]
  },
  {
   "cell_type": "code",
   "execution_count": null,
   "id": "a6b5d996-d210-4b95-ba12-e49e8990e45f",
   "metadata": {
    "tags": []
   },
   "outputs": [],
   "source": [
    "fs = fsspec.filesystem('abfs', storage_options=storage_options, use_listings_cache=False, skip_instance_cache=True)"
   ]
  },
  {
   "cell_type": "code",
   "execution_count": null,
   "id": "712ed351-c61a-4b41-825f-3983d18c599f",
   "metadata": {
    "tags": []
   },
   "outputs": [],
   "source": [
    "#region = 'usa'\n",
    "region = 'europe'\n",
    "combined_parquet_abfs = f'abfs://cmre-cc01/data/era5/combined_nc_{region}.parq'"
   ]
  },
  {
   "cell_type": "code",
   "execution_count": null,
   "id": "aa699ae3-0cfa-48ee-83e5-68360cb0b874",
   "metadata": {
    "tags": []
   },
   "outputs": [],
   "source": [
    "opts = storage_options\n",
    "so=dict(remote_protocol='abfs', remote_options=opts, target_options=opts)"
   ]
  },
  {
   "cell_type": "code",
   "execution_count": null,
   "id": "9467d4bb-098f-4009-93ae-d3dcc8451386",
   "metadata": {
    "tags": []
   },
   "outputs": [],
   "source": [
    "cluster = LocalCluster(threads_per_worker=1)\n",
    "client = Client(cluster)"
   ]
  },
  {
   "cell_type": "code",
   "execution_count": null,
   "id": "36e9eeea-a858-4678-9192-f76b0a286247",
   "metadata": {
    "tags": []
   },
   "outputs": [],
   "source": [
    "ds = xr.open_dataset(combined_parquet_abfs, engine=\"kerchunk\", chunks={},\n",
    "            storage_options=dict(remote_protocol='abfs', remote_options=opts, target_options=opts, lazy=True))"
   ]
  },
  {
   "cell_type": "code",
   "execution_count": null,
   "id": "51cf50fb-9c6e-4f04-8e14-e81af85bad45",
   "metadata": {
    "tags": []
   },
   "outputs": [],
   "source": [
    "ds"
   ]
  },
  {
   "cell_type": "code",
   "execution_count": null,
   "id": "efa03c96-db3b-4d40-aa63-f4f53c6d22d0",
   "metadata": {
    "tags": []
   },
   "outputs": [],
   "source": [
    "%%time\n",
    "da = ds['2m_temperature'][:,100,200].load()"
   ]
  },
  {
   "cell_type": "code",
   "execution_count": null,
   "id": "7b547faf-42b0-4825-9825-7abd606ff142",
   "metadata": {
    "tags": []
   },
   "outputs": [],
   "source": [
    "da"
   ]
  },
  {
   "cell_type": "code",
   "execution_count": null,
   "id": "1e7344c5-3d32-487b-9cca-de1f69e449d2",
   "metadata": {
    "tags": []
   },
   "outputs": [],
   "source": [
    "da.plot()"
   ]
  }
 ],
 "metadata": {
  "kernelspec": {
   "display_name": "Python3.12 (pangeo-local)",
   "language": "python",
   "name": "pangeo-local"
  },
  "language_info": {
   "codemirror_mode": {
    "name": "ipython",
    "version": 3
   },
   "file_extension": ".py",
   "mimetype": "text/x-python",
   "name": "python",
   "nbconvert_exporter": "python",
   "pygments_lexer": "ipython3",
   "version": "3.12.7"
  }
 },
 "nbformat": 4,
 "nbformat_minor": 5
}
