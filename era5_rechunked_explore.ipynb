{
 "cells": [
  {
   "cell_type": "markdown",
   "id": "1cbf5464-aef6-444a-b7be-dd45870baef4",
   "metadata": {},
   "source": [
    "# Explore rechunked ERA5"
   ]
  },
  {
   "cell_type": "code",
   "execution_count": null,
   "id": "dd29d4c0-b2a5-4eb8-b269-f8b95477039d",
   "metadata": {},
   "outputs": [],
   "source": [
    "import fsspec\n",
    "import xarray as xr\n",
    "import hvplot.xarray"
   ]
  },
  {
   "cell_type": "code",
   "execution_count": null,
   "id": "cb4176c8-bf97-43ac-b36f-6bcf7a4f5703",
   "metadata": {},
   "outputs": [],
   "source": [
    "so = dict(requester_pays=True, profile='esip-qhub)\n",
    "fs = fsspec.filesystem('s3', **so)"
   ]
  },
  {
   "cell_type": "code",
   "execution_count": null,
   "id": "1ab82b6d-d773-4e4c-bf6b-cb9ca6074832",
   "metadata": {},
   "outputs": [],
   "source": [
    "combined_parquet_s3 = 's3://esip-qhub/rsignell/era5/combined.parq'"
   ]
  },
  {
   "cell_type": "code",
   "execution_count": null,
   "id": "c223cd45-260b-4026-af3a-00b917dfbeac",
   "metadata": {},
   "outputs": [],
   "source": [
    "%%time\n",
    "ds = xr.open_dataset(combined_parquet_s3, engine=\"kerchunk\", chunks={},\n",
    "            storage_options=dict(remote_protocol='s3', remote_options=so, target_options=so, lazy=True))"
   ]
  },
  {
   "cell_type": "code",
   "execution_count": null,
   "id": "5c565e1c-8785-47ee-a408-54247e3ed5da",
   "metadata": {},
   "outputs": [],
   "source": [
    "%%time\n",
    "da = ds['2m_temperature'].sel(latitude=41.699276, longitude=-70.522349, method='nearest').load()"
   ]
  },
  {
   "cell_type": "code",
   "execution_count": null,
   "id": "41697087-7053-4921-a075-0785d6034f55",
   "metadata": {},
   "outputs": [],
   "source": [
    "da.hvplot(x='time', grid=True)"
   ]
  }
 ],
 "metadata": {
  "kernelspec": {
   "display_name": "global-global-pangeo",
   "language": "python",
   "name": "conda-env-global-global-pangeo-py"
  },
  "language_info": {
   "codemirror_mode": {
    "name": "ipython",
    "version": 3
   },
   "file_extension": ".py",
   "mimetype": "text/x-python",
   "name": "python",
   "nbconvert_exporter": "python",
   "pygments_lexer": "ipython3",
   "version": "3.12.9"
  }
 },
 "nbformat": 4,
 "nbformat_minor": 5
}
