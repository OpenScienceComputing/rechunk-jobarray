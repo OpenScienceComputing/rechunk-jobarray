{
 "cells": [
  {
   "cell_type": "markdown",
   "id": "468417ec-ba12-439a-81c2-43342b3dcd60",
   "metadata": {},
   "source": [
    "# Create virtual dataset referencing a collection of rechunked NetCDF datasets\n",
    "Using rechunker.   Tried using Virtualizarr but it bombs"
   ]
  },
  {
   "cell_type": "code",
   "execution_count": null,
   "id": "cd642590-03f8-4419-8431-e2e8ba90e47e",
   "metadata": {
    "tags": []
   },
   "outputs": [],
   "source": [
    "import zarr\n",
    "import fsspec\n",
    "from dotenv import load_dotenv\n",
    "import xarray as xr\n",
    "import dask\n",
    "from dask.distributed import LocalCluster, Client"
   ]
  },
  {
   "cell_type": "code",
   "execution_count": null,
   "id": "cbd4cae0-3017-44e0-91ec-4ffd8888d0e7",
   "metadata": {
    "tags": []
   },
   "outputs": [],
   "source": [
    "import kerchunk.combine\n",
    "import kerchunk.zarr\n",
    "from kerchunk.hdf import SingleHdf5ToZarr\n",
    "from kerchunk.combine import MultiZarrToZarr\n",
    "from fsspec.implementations.reference import LazyReferenceMapper"
   ]
  },
  {
   "cell_type": "code",
   "execution_count": null,
   "id": "2f81277e-1270-4b18-aae6-2c98a342213b",
   "metadata": {
    "tags": []
   },
   "outputs": [],
   "source": [
    "import os\n",
    "if 'NEBARI_JUPYTERHUB_SSH_PORT' in os.environ.keys():   # NEBARI\n",
    "    dot_env_file = '/shared/users/nebari-setup/lib/CMRE_Blob_Keys.env'\n",
    "elif 'AML_CloudName' in os.environ.keys():  # AzureML\n",
    "    dot_env_file = '/home/azureuser/cloudfiles/code/Users/CMRE_Blob_Keys.env'\n",
    "else:\n",
    "    print('Unknown Compute Environment: Blob_Keys not found')\n",
    "print(dot_env_file)\n",
    "_ = load_dotenv(dot_env_file)  # loads Azure credentials"
   ]
  },
  {
   "cell_type": "code",
   "execution_count": null,
   "id": "bc3af600-bbb8-4693-a258-c9fc54dbb7df",
   "metadata": {},
   "outputs": [],
   "source": [
    "storage_options={\n",
    "            \"account_name\": os.environ[\"AZURE_STORAGE_CONNECTION_STRING\"],\n",
    "            \"account_key\": os.environ[\"AZURE_STORAGE_KEY\"],\n",
    "        }"
   ]
  },
  {
   "cell_type": "code",
   "execution_count": null,
   "id": "a6b5d996-d210-4b95-ba12-e49e8990e45f",
   "metadata": {
    "tags": []
   },
   "outputs": [],
   "source": [
    "fs = fsspec.filesystem('abfs', storage_options=storage_options, use_listings_cache=False, skip_instance_cache=True)"
   ]
  },
  {
   "cell_type": "code",
   "execution_count": null,
   "id": "712ed351-c61a-4b41-825f-3983d18c599f",
   "metadata": {
    "tags": []
   },
   "outputs": [],
   "source": [
    "region = 'usa'\n",
    "flist = fs.glob(f'abfs://cmre-cc01/data/era5/era5_{region}_??.nc')"
   ]
  },
  {
   "cell_type": "code",
   "execution_count": null,
   "id": "2cc9bb0c-5cc0-4f0e-b505-895d5b58eec4",
   "metadata": {
    "tags": []
   },
   "outputs": [],
   "source": [
    "flist = [f'abfs://{f}' for f in flist]\n",
    "print(len(flist))\n",
    "print(flist[0])\n",
    "print(flist[-1])"
   ]
  },
  {
   "cell_type": "code",
   "execution_count": null,
   "id": "aa699ae3-0cfa-48ee-83e5-68360cb0b874",
   "metadata": {
    "tags": []
   },
   "outputs": [],
   "source": [
    "opts = storage_options\n",
    "so=dict(remote_protocol='abfs', remote_options=opts, target_options=opts)"
   ]
  },
  {
   "cell_type": "code",
   "execution_count": null,
   "id": "5e565a30-295e-46d2-b951-d69f77e3b0c5",
   "metadata": {
    "tags": []
   },
   "outputs": [],
   "source": [
    "def gen_refs(f):\n",
    "    with fs.open(f, **so) as infile:\n",
    "        h5chunks = SingleHdf5ToZarr(infile, f, inline_threshold=300)\n",
    "        return h5chunks.translate()  "
   ]
  },
  {
   "cell_type": "code",
   "execution_count": null,
   "id": "9467d4bb-098f-4009-93ae-d3dcc8451386",
   "metadata": {
    "tags": []
   },
   "outputs": [],
   "source": [
    "cluster = LocalCluster(threads_per_worker=1)\n",
    "client = Client(cluster)"
   ]
  },
  {
   "cell_type": "code",
   "execution_count": null,
   "id": "3d3971af-ed24-41c5-8390-05bec4dbaa27",
   "metadata": {
    "tags": []
   },
   "outputs": [],
   "source": [
    "%%time\n",
    "ref_list = dask.compute(*[dask.delayed(gen_refs)(f) for f in flist], retries=10)"
   ]
  },
  {
   "cell_type": "code",
   "execution_count": null,
   "id": "2cc8c874-0583-4ba3-b4e2-f6edf79808eb",
   "metadata": {
    "tags": []
   },
   "outputs": [],
   "source": [
    "ds = xr.open_dataset(ref_list[0], engine=\"kerchunk\", chunks={}, storage_options=so)"
   ]
  },
  {
   "cell_type": "code",
   "execution_count": null,
   "id": "0fc4ec02-dc87-4b5b-9c12-3c9edde38366",
   "metadata": {
    "tags": []
   },
   "outputs": [],
   "source": [
    "identical_dims = []\n",
    "for v in ds.variables.keys():\n",
    "    if 'time' not in ds[v].dims:\n",
    "        identical_dims.append(v)"
   ]
  },
  {
   "cell_type": "code",
   "execution_count": null,
   "id": "ded918fb-07e1-4f01-9cf4-40f6b6e49fa9",
   "metadata": {
    "tags": []
   },
   "outputs": [],
   "source": [
    "identical_dims"
   ]
  },
  {
   "cell_type": "code",
   "execution_count": null,
   "id": "641ca4f0-847a-4fdf-947a-1e0724af786f",
   "metadata": {
    "tags": []
   },
   "outputs": [],
   "source": [
    "combined_parquet = f'combined_nc_{region}.parq'"
   ]
  },
  {
   "cell_type": "code",
   "execution_count": null,
   "id": "7b84cc8e-6354-46b1-aa5e-281a2abeeca4",
   "metadata": {
    "tags": []
   },
   "outputs": [],
   "source": [
    "fs_local = fsspec.filesystem(\"file\")\n",
    "try: \n",
    "    fs_local.rm(combined_parquet, recursive=True)\n",
    "except:\n",
    "    pass"
   ]
  },
  {
   "cell_type": "code",
   "execution_count": null,
   "id": "a59056f3-636a-4bdc-929e-21f565e418b5",
   "metadata": {
    "tags": []
   },
   "outputs": [],
   "source": [
    "fs_local.makedirs(combined_parquet)"
   ]
  },
  {
   "cell_type": "code",
   "execution_count": null,
   "id": "b5ee5cbb-5bd6-42bc-bb55-7e38f42b2e9c",
   "metadata": {
    "tags": []
   },
   "outputs": [],
   "source": [
    "out = LazyReferenceMapper.create(root=combined_parquet, fs=fs_local, record_size=100000)"
   ]
  },
  {
   "cell_type": "markdown",
   "id": "375aaa01-e9dd-4d72-be4f-6144f5da6c65",
   "metadata": {
    "tags": []
   },
   "source": [
    "Kerchunk is bombing out on the last set of refs - raised issue here:\n",
    "    "
   ]
  },
  {
   "cell_type": "code",
   "execution_count": null,
   "id": "3b703e83-16a1-48a4-8982-ad76fb28ac20",
   "metadata": {
    "tags": []
   },
   "outputs": [],
   "source": [
    "%%time\n",
    "original_refs = MultiZarrToZarr(\n",
    "        ref_list[:-2],\n",
    "        remote_protocol=\"abfs\",\n",
    "        remote_options=opts,\n",
    "        concat_dims=[\"time\"],\n",
    "        coo_map={\"time\": \"cf:time\"},\n",
    "        identical_dims=identical_dims,\n",
    "        out=out).translate()"
   ]
  },
  {
   "cell_type": "code",
   "execution_count": null,
   "id": "6607c9a6-3540-43c5-ace6-94c08739fe9c",
   "metadata": {
    "tags": []
   },
   "outputs": [],
   "source": [
    "out.flush()"
   ]
  },
  {
   "cell_type": "markdown",
   "id": "0b17012b-4bdf-4836-b3ad-de2ab3d4576a",
   "metadata": {},
   "source": [
    "try at appending..."
   ]
  },
  {
   "cell_type": "raw",
   "id": "d3166207-4eb5-4ded-92b3-60fca8fc39b6",
   "metadata": {
    "tags": []
   },
   "source": [
    "%%time\n",
    "original_refs = MultiZarrToZarr(\n",
    "        ref_list[:-2],\n",
    "        remote_protocol=\"abfs\",\n",
    "        remote_options=opts,\n",
    "        concat_dims=[\"time\"],\n",
    "        coo_map={\"time\": \"cf:time\"},\n",
    "        identical_dims=identical_dims).translate()"
   ]
  },
  {
   "cell_type": "raw",
   "id": "882593a2-5cb3-4a5c-97ea-da196afe2792",
   "metadata": {
    "tags": []
   },
   "source": [
    "%%time\n",
    "appended_refs = MultiZarrToZarr.append(\n",
    "        ref_list[-1],\n",
    "        original_refs=original_refs,\n",
    "        remote_protocol=\"abfs\",\n",
    "        remote_options=opts,\n",
    "        concat_dims=[\"time\"],\n",
    "        coo_map={\"time\": \"cf:time\"},\n",
    "        identical_dims=identical_dims).translate()"
   ]
  },
  {
   "cell_type": "markdown",
   "id": "f108c9c1-4933-4be8-b592-009efdbf42b8",
   "metadata": {},
   "source": [
    "Above Doesn't work.  Key error. "
   ]
  },
  {
   "cell_type": "markdown",
   "id": "096ee7f7-ae52-4c09-b8e3-6ada1ceecb04",
   "metadata": {},
   "source": [
    "#### Test local parquet before uploading refs"
   ]
  },
  {
   "cell_type": "code",
   "execution_count": null,
   "id": "a4655f39-0678-44cf-95ef-0f2994cbd442",
   "metadata": {
    "tags": []
   },
   "outputs": [],
   "source": [
    "ds = xr.open_dataset(combined_parquet, engine=\"kerchunk\", chunks={},\n",
    "            storage_options=dict(remote_protocol='abfs', remote_options=opts, target_options=opts, lazy=True))"
   ]
  },
  {
   "cell_type": "code",
   "execution_count": null,
   "id": "8ca18c0d-edab-43f2-b1de-7c95bcd085ea",
   "metadata": {
    "tags": []
   },
   "outputs": [],
   "source": [
    "ds"
   ]
  },
  {
   "cell_type": "code",
   "execution_count": null,
   "id": "8c43964f-2367-469c-ae29-79c82a1486a2",
   "metadata": {
    "tags": []
   },
   "outputs": [],
   "source": [
    "combined_parquet_abfs = f'abfs://cmre-cc01/data/era5/{combined_parquet}'"
   ]
  },
  {
   "cell_type": "code",
   "execution_count": null,
   "id": "689e18e0-e97c-4d30-b52b-44ff0b8962fc",
   "metadata": {
    "tags": []
   },
   "outputs": [],
   "source": [
    "_ = fs.upload(combined_parquet, combined_parquet_abfs, recursive=True)"
   ]
  },
  {
   "cell_type": "code",
   "execution_count": null,
   "id": "ba100a3e-be5c-4378-acad-edcc5df81f9f",
   "metadata": {
    "tags": []
   },
   "outputs": [],
   "source": [
    "fs_local.rm(combined_parquet, recursive=True)"
   ]
  },
  {
   "cell_type": "markdown",
   "id": "2c5d1e02-0b5e-4687-82e8-192e5b682eb4",
   "metadata": {},
   "source": [
    "#### Test Parquet refs on Azure blob storage"
   ]
  },
  {
   "cell_type": "code",
   "execution_count": null,
   "id": "36e9eeea-a858-4678-9192-f76b0a286247",
   "metadata": {
    "tags": []
   },
   "outputs": [],
   "source": [
    "ds = xr.open_dataset(combined_parquet_abfs, engine=\"kerchunk\", chunks={},\n",
    "            storage_options=dict(remote_protocol='abfs', remote_options=opts, target_options=opts, lazy=True))"
   ]
  },
  {
   "cell_type": "code",
   "execution_count": null,
   "id": "51cf50fb-9c6e-4f04-8e14-e81af85bad45",
   "metadata": {
    "tags": []
   },
   "outputs": [],
   "source": [
    "ds"
   ]
  },
  {
   "cell_type": "code",
   "execution_count": null,
   "id": "efa03c96-db3b-4d40-aa63-f4f53c6d22d0",
   "metadata": {
    "tags": []
   },
   "outputs": [],
   "source": [
    "%%time\n",
    "da = ds['2m_temperature'][:,100,200].load()"
   ]
  },
  {
   "cell_type": "code",
   "execution_count": null,
   "id": "7b547faf-42b0-4825-9825-7abd606ff142",
   "metadata": {
    "tags": []
   },
   "outputs": [],
   "source": [
    "da"
   ]
  },
  {
   "cell_type": "code",
   "execution_count": null,
   "id": "1e7344c5-3d32-487b-9cca-de1f69e449d2",
   "metadata": {
    "tags": []
   },
   "outputs": [],
   "source": [
    "da.plot()"
   ]
  },
  {
   "cell_type": "code",
   "execution_count": null,
   "id": "646d8308-d609-4102-9ddb-30e8b01965b5",
   "metadata": {},
   "outputs": [],
   "source": []
  }
 ],
 "metadata": {
  "kernelspec": {
   "display_name": "Python3.12 (pangeo-local)",
   "language": "python",
   "name": "pangeo-local"
  },
  "language_info": {
   "codemirror_mode": {
    "name": "ipython",
    "version": 3
   },
   "file_extension": ".py",
   "mimetype": "text/x-python",
   "name": "python",
   "nbconvert_exporter": "python",
   "pygments_lexer": "ipython3",
   "version": "3.12.7"
  }
 },
 "nbformat": 4,
 "nbformat_minor": 5
}
